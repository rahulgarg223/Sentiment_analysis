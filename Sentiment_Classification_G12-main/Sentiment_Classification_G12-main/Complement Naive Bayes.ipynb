{
 "cells": [
  {
   "cell_type": "code",
   "execution_count": 1,
   "id": "b12a7385",
   "metadata": {
    "_cell_guid": "b1076dfc-b9ad-4769-8c92-a6c4dae69d19",
    "_uuid": "8f2839f25d086af736a60e9eeb907d3b93b6e0e5",
    "execution": {
     "iopub.execute_input": "2024-04-21T13:43:20.219731Z",
     "iopub.status.busy": "2024-04-21T13:43:20.218448Z",
     "iopub.status.idle": "2024-04-21T13:43:21.330801Z",
     "shell.execute_reply": "2024-04-21T13:43:21.329170Z"
    },
    "papermill": {
     "duration": 1.12566,
     "end_time": "2024-04-21T13:43:21.333756",
     "exception": false,
     "start_time": "2024-04-21T13:43:20.208096",
     "status": "completed"
    },
    "tags": []
   },
   "outputs": [
    {
     "name": "stdout",
     "output_type": "stream",
     "text": [
      "/kaggle/input/sentiment-analysis-dataset/training.1600000.processed.noemoticon.csv\n",
      "/kaggle/input/sentiment-analysis-dataset/train.csv\n",
      "/kaggle/input/sentiment-analysis-dataset/testdata.manual.2009.06.14.csv\n",
      "/kaggle/input/sentiment-analysis-dataset/test.csv\n",
      "/kaggle/input/notebook39f36a8308/__results__.html\n",
      "/kaggle/input/notebook39f36a8308/__resultx__.html\n",
      "/kaggle/input/notebook39f36a8308/__notebook__.ipynb\n",
      "/kaggle/input/notebook39f36a8308/__output__.json\n",
      "/kaggle/input/notebook39f36a8308/custom.css\n",
      "/kaggle/input/notebook39f36a8308/__results___files/__results___47_0.png\n",
      "/kaggle/input/notebook39f36a8308/__results___files/__results___10_0.png\n",
      "/kaggle/input/notebook39f36a8308/__results___files/__results___24_0.png\n",
      "/kaggle/input/notebook39f36a8308/__results___files/__results___49_0.png\n",
      "/kaggle/input/notebook39f36a8308/__results___files/__results___42_0.png\n"
     ]
    }
   ],
   "source": [
    "# This Python 3 environment comes with many helpful analytics libraries installed\n",
    "# It is defined by the kaggle/python Docker image: https://github.com/kaggle/docker-python\n",
    "# For example, here's several helpful packages to load\n",
    "\n",
    "import numpy as np # linear algebra\n",
    "import pandas as pd # data processing, CSV file I/O (e.g. pd.read_csv)\n",
    "\n",
    "# Input data files are available in the read-only \"../input/\" directory\n",
    "# For example, running this (by clicking run or pressing Shift+Enter) will list all files under the input directory\n",
    "\n",
    "import os\n",
    "for dirname, _, filenames in os.walk('/kaggle/input'):\n",
    "    for filename in filenames:\n",
    "        print(os.path.join(dirname, filename))\n",
    "\n",
    "# You can write up to 20GB to the current directory (/kaggle/working/) that gets preserved as output when you create a version using \"Save & Run All\" \n",
    "# You can also write temporary files to /kaggle/temp/, but they won't be saved outside of the current session"
   ]
  },
  {
   "cell_type": "code",
   "execution_count": 2,
   "id": "fdb9ad48",
   "metadata": {
    "execution": {
     "iopub.execute_input": "2024-04-21T13:43:21.346933Z",
     "iopub.status.busy": "2024-04-21T13:43:21.346343Z",
     "iopub.status.idle": "2024-04-21T13:43:23.281186Z",
     "shell.execute_reply": "2024-04-21T13:43:23.280124Z"
    },
    "papermill": {
     "duration": 1.944938,
     "end_time": "2024-04-21T13:43:23.284403",
     "exception": false,
     "start_time": "2024-04-21T13:43:21.339465",
     "status": "completed"
    },
    "tags": []
   },
   "outputs": [],
   "source": [
    "from sklearn.feature_extraction.text import CountVectorizer\n",
    "from sklearn.metrics import accuracy_score\n",
    "import seaborn as sns\n",
    "from sklearn.metrics import confusion_matrix\n",
    "import matplotlib.pyplot as plt"
   ]
  },
  {
   "cell_type": "code",
   "execution_count": 3,
   "id": "9acb455c",
   "metadata": {
    "execution": {
     "iopub.execute_input": "2024-04-21T13:43:23.299066Z",
     "iopub.status.busy": "2024-04-21T13:43:23.298581Z",
     "iopub.status.idle": "2024-04-21T13:43:23.577825Z",
     "shell.execute_reply": "2024-04-21T13:43:23.576604Z"
    },
    "papermill": {
     "duration": 0.290333,
     "end_time": "2024-04-21T13:43:23.580440",
     "exception": false,
     "start_time": "2024-04-21T13:43:23.290107",
     "status": "completed"
    },
    "tags": []
   },
   "outputs": [
    {
     "data": {
      "text/html": [
       "<div>\n",
       "<style scoped>\n",
       "    .dataframe tbody tr th:only-of-type {\n",
       "        vertical-align: middle;\n",
       "    }\n",
       "\n",
       "    .dataframe tbody tr th {\n",
       "        vertical-align: top;\n",
       "    }\n",
       "\n",
       "    .dataframe thead th {\n",
       "        text-align: right;\n",
       "    }\n",
       "</style>\n",
       "<table border=\"1\" class=\"dataframe\">\n",
       "  <thead>\n",
       "    <tr style=\"text-align: right;\">\n",
       "      <th></th>\n",
       "      <th>text</th>\n",
       "      <th>sentiment</th>\n",
       "    </tr>\n",
       "  </thead>\n",
       "  <tbody>\n",
       "    <tr>\n",
       "      <th>0</th>\n",
       "      <td>I`d have responded, if I were going</td>\n",
       "      <td>neutral</td>\n",
       "    </tr>\n",
       "    <tr>\n",
       "      <th>1</th>\n",
       "      <td>Sooo SAD I will miss you here in San Diego!!!</td>\n",
       "      <td>negative</td>\n",
       "    </tr>\n",
       "    <tr>\n",
       "      <th>2</th>\n",
       "      <td>my boss is bullying me...</td>\n",
       "      <td>negative</td>\n",
       "    </tr>\n",
       "    <tr>\n",
       "      <th>3</th>\n",
       "      <td>what interview! leave me alone</td>\n",
       "      <td>negative</td>\n",
       "    </tr>\n",
       "    <tr>\n",
       "      <th>4</th>\n",
       "      <td>Sons of ****, why couldn`t they put them on t...</td>\n",
       "      <td>negative</td>\n",
       "    </tr>\n",
       "  </tbody>\n",
       "</table>\n",
       "</div>"
      ],
      "text/plain": [
       "                                                text sentiment\n",
       "0                I`d have responded, if I were going   neutral\n",
       "1      Sooo SAD I will miss you here in San Diego!!!  negative\n",
       "2                          my boss is bullying me...  negative\n",
       "3                     what interview! leave me alone  negative\n",
       "4   Sons of ****, why couldn`t they put them on t...  negative"
      ]
     },
     "execution_count": 3,
     "metadata": {},
     "output_type": "execute_result"
    }
   ],
   "source": [
    "df=pd.read_csv('/kaggle/input/sentiment-analysis-dataset/train.csv',encoding='unicode_escape')\n",
    "train_data=df[['text','sentiment']]\n",
    "train_data.head()"
   ]
  },
  {
   "cell_type": "code",
   "execution_count": 4,
   "id": "1af20fb3",
   "metadata": {
    "execution": {
     "iopub.execute_input": "2024-04-21T13:43:23.594281Z",
     "iopub.status.busy": "2024-04-21T13:43:23.593212Z",
     "iopub.status.idle": "2024-04-21T13:43:23.643375Z",
     "shell.execute_reply": "2024-04-21T13:43:23.642493Z"
    },
    "papermill": {
     "duration": 0.060031,
     "end_time": "2024-04-21T13:43:23.646023",
     "exception": false,
     "start_time": "2024-04-21T13:43:23.585992",
     "status": "completed"
    },
    "tags": []
   },
   "outputs": [
    {
     "data": {
      "text/html": [
       "<div>\n",
       "<style scoped>\n",
       "    .dataframe tbody tr th:only-of-type {\n",
       "        vertical-align: middle;\n",
       "    }\n",
       "\n",
       "    .dataframe tbody tr th {\n",
       "        vertical-align: top;\n",
       "    }\n",
       "\n",
       "    .dataframe thead th {\n",
       "        text-align: right;\n",
       "    }\n",
       "</style>\n",
       "<table border=\"1\" class=\"dataframe\">\n",
       "  <thead>\n",
       "    <tr style=\"text-align: right;\">\n",
       "      <th></th>\n",
       "      <th>text</th>\n",
       "      <th>sentiment</th>\n",
       "    </tr>\n",
       "  </thead>\n",
       "  <tbody>\n",
       "    <tr>\n",
       "      <th>count</th>\n",
       "      <td>27480</td>\n",
       "      <td>27481</td>\n",
       "    </tr>\n",
       "    <tr>\n",
       "      <th>unique</th>\n",
       "      <td>27480</td>\n",
       "      <td>3</td>\n",
       "    </tr>\n",
       "    <tr>\n",
       "      <th>top</th>\n",
       "      <td>I`d have responded, if I were going</td>\n",
       "      <td>neutral</td>\n",
       "    </tr>\n",
       "    <tr>\n",
       "      <th>freq</th>\n",
       "      <td>1</td>\n",
       "      <td>11118</td>\n",
       "    </tr>\n",
       "  </tbody>\n",
       "</table>\n",
       "</div>"
      ],
      "text/plain": [
       "                                        text sentiment\n",
       "count                                  27480     27481\n",
       "unique                                 27480         3\n",
       "top      I`d have responded, if I were going   neutral\n",
       "freq                                       1     11118"
      ]
     },
     "execution_count": 4,
     "metadata": {},
     "output_type": "execute_result"
    }
   ],
   "source": [
    "train_data.describe()"
   ]
  },
  {
   "cell_type": "code",
   "execution_count": 5,
   "id": "a2bde546",
   "metadata": {
    "execution": {
     "iopub.execute_input": "2024-04-21T13:43:23.660202Z",
     "iopub.status.busy": "2024-04-21T13:43:23.658957Z",
     "iopub.status.idle": "2024-04-21T13:43:23.680775Z",
     "shell.execute_reply": "2024-04-21T13:43:23.679234Z"
    },
    "papermill": {
     "duration": 0.031705,
     "end_time": "2024-04-21T13:43:23.683485",
     "exception": false,
     "start_time": "2024-04-21T13:43:23.651780",
     "status": "completed"
    },
    "tags": []
   },
   "outputs": [
    {
     "name": "stdout",
     "output_type": "stream",
     "text": [
      "<class 'pandas.core.frame.DataFrame'>\n",
      "RangeIndex: 27481 entries, 0 to 27480\n",
      "Data columns (total 2 columns):\n",
      " #   Column     Non-Null Count  Dtype \n",
      "---  ------     --------------  ----- \n",
      " 0   text       27480 non-null  object\n",
      " 1   sentiment  27481 non-null  object\n",
      "dtypes: object(2)\n",
      "memory usage: 429.5+ KB\n"
     ]
    }
   ],
   "source": [
    "train_data.info()"
   ]
  },
  {
   "cell_type": "code",
   "execution_count": 6,
   "id": "fabbfa1c",
   "metadata": {
    "execution": {
     "iopub.execute_input": "2024-04-21T13:43:23.698761Z",
     "iopub.status.busy": "2024-04-21T13:43:23.697605Z",
     "iopub.status.idle": "2024-04-21T13:43:23.711311Z",
     "shell.execute_reply": "2024-04-21T13:43:23.710039Z"
    },
    "papermill": {
     "duration": 0.024529,
     "end_time": "2024-04-21T13:43:23.714539",
     "exception": false,
     "start_time": "2024-04-21T13:43:23.690010",
     "status": "completed"
    },
    "tags": []
   },
   "outputs": [],
   "source": [
    "train_data=train_data.dropna()"
   ]
  },
  {
   "cell_type": "code",
   "execution_count": 7,
   "id": "c5bd12a3",
   "metadata": {
    "execution": {
     "iopub.execute_input": "2024-04-21T13:43:23.729351Z",
     "iopub.status.busy": "2024-04-21T13:43:23.728920Z",
     "iopub.status.idle": "2024-04-21T13:43:23.740331Z",
     "shell.execute_reply": "2024-04-21T13:43:23.739381Z"
    },
    "papermill": {
     "duration": 0.021574,
     "end_time": "2024-04-21T13:43:23.742599",
     "exception": false,
     "start_time": "2024-04-21T13:43:23.721025",
     "status": "completed"
    },
    "tags": []
   },
   "outputs": [
    {
     "data": {
      "text/plain": [
       "text         False\n",
       "sentiment    False\n",
       "dtype: bool"
      ]
     },
     "execution_count": 7,
     "metadata": {},
     "output_type": "execute_result"
    }
   ],
   "source": [
    "train_data.isna().any()"
   ]
  },
  {
   "cell_type": "code",
   "execution_count": 8,
   "id": "8c20dc83",
   "metadata": {
    "execution": {
     "iopub.execute_input": "2024-04-21T13:43:23.757795Z",
     "iopub.status.busy": "2024-04-21T13:43:23.756530Z",
     "iopub.status.idle": "2024-04-21T13:43:23.765771Z",
     "shell.execute_reply": "2024-04-21T13:43:23.764225Z"
    },
    "papermill": {
     "duration": 0.019639,
     "end_time": "2024-04-21T13:43:23.768228",
     "exception": false,
     "start_time": "2024-04-21T13:43:23.748589",
     "status": "completed"
    },
    "tags": []
   },
   "outputs": [
    {
     "name": "stdout",
     "output_type": "stream",
     "text": [
      "['neutral' 'negative' 'positive']\n"
     ]
    }
   ],
   "source": [
    "unique_col=train_data['sentiment'].unique()\n",
    "print(unique_col)"
   ]
  },
  {
   "cell_type": "code",
   "execution_count": 9,
   "id": "4fa573ee",
   "metadata": {
    "execution": {
     "iopub.execute_input": "2024-04-21T13:43:23.782765Z",
     "iopub.status.busy": "2024-04-21T13:43:23.782281Z",
     "iopub.status.idle": "2024-04-21T13:43:23.818087Z",
     "shell.execute_reply": "2024-04-21T13:43:23.816077Z"
    },
    "papermill": {
     "duration": 0.046233,
     "end_time": "2024-04-21T13:43:23.820800",
     "exception": false,
     "start_time": "2024-04-21T13:43:23.774567",
     "status": "completed"
    },
    "tags": []
   },
   "outputs": [
    {
     "name": "stdout",
     "output_type": "stream",
     "text": [
      "{'neutral': 0, 'negative': 1, 'positive': 2}\n"
     ]
    },
    {
     "name": "stderr",
     "output_type": "stream",
     "text": [
      "/tmp/ipykernel_19/2294453797.py:3: FutureWarning: Downcasting behavior in `replace` is deprecated and will be removed in a future version. To retain the old behavior, explicitly call `result.infer_objects(copy=False)`. To opt-in to the future behavior, set `pd.set_option('future.no_silent_downcasting', True)`\n",
      "  train_data.replace(dict,inplace=True)\n"
     ]
    },
    {
     "data": {
      "text/html": [
       "<div>\n",
       "<style scoped>\n",
       "    .dataframe tbody tr th:only-of-type {\n",
       "        vertical-align: middle;\n",
       "    }\n",
       "\n",
       "    .dataframe tbody tr th {\n",
       "        vertical-align: top;\n",
       "    }\n",
       "\n",
       "    .dataframe thead th {\n",
       "        text-align: right;\n",
       "    }\n",
       "</style>\n",
       "<table border=\"1\" class=\"dataframe\">\n",
       "  <thead>\n",
       "    <tr style=\"text-align: right;\">\n",
       "      <th></th>\n",
       "      <th>text</th>\n",
       "      <th>sentiment</th>\n",
       "    </tr>\n",
       "  </thead>\n",
       "  <tbody>\n",
       "    <tr>\n",
       "      <th>0</th>\n",
       "      <td>I`d have responded, if I were going</td>\n",
       "      <td>0</td>\n",
       "    </tr>\n",
       "    <tr>\n",
       "      <th>1</th>\n",
       "      <td>Sooo SAD I will miss you here in San Diego!!!</td>\n",
       "      <td>1</td>\n",
       "    </tr>\n",
       "    <tr>\n",
       "      <th>2</th>\n",
       "      <td>my boss is bullying me...</td>\n",
       "      <td>1</td>\n",
       "    </tr>\n",
       "    <tr>\n",
       "      <th>3</th>\n",
       "      <td>what interview! leave me alone</td>\n",
       "      <td>1</td>\n",
       "    </tr>\n",
       "    <tr>\n",
       "      <th>4</th>\n",
       "      <td>Sons of ****, why couldn`t they put them on t...</td>\n",
       "      <td>1</td>\n",
       "    </tr>\n",
       "  </tbody>\n",
       "</table>\n",
       "</div>"
      ],
      "text/plain": [
       "                                                text  sentiment\n",
       "0                I`d have responded, if I were going          0\n",
       "1      Sooo SAD I will miss you here in San Diego!!!          1\n",
       "2                          my boss is bullying me...          1\n",
       "3                     what interview! leave me alone          1\n",
       "4   Sons of ****, why couldn`t they put them on t...          1"
      ]
     },
     "execution_count": 9,
     "metadata": {},
     "output_type": "execute_result"
    }
   ],
   "source": [
    "dict={unique_col[i]: i for i in range(3)}\n",
    "print(dict)\n",
    "train_data.replace(dict,inplace=True)    \n",
    "train_data.head()"
   ]
  },
  {
   "cell_type": "code",
   "execution_count": 10,
   "id": "2336768c",
   "metadata": {
    "execution": {
     "iopub.execute_input": "2024-04-21T13:43:23.837948Z",
     "iopub.status.busy": "2024-04-21T13:43:23.837107Z",
     "iopub.status.idle": "2024-04-21T13:43:23.847685Z",
     "shell.execute_reply": "2024-04-21T13:43:23.846040Z"
    },
    "papermill": {
     "duration": 0.022763,
     "end_time": "2024-04-21T13:43:23.850406",
     "exception": false,
     "start_time": "2024-04-21T13:43:23.827643",
     "status": "completed"
    },
    "tags": []
   },
   "outputs": [
    {
     "name": "stdout",
     "output_type": "stream",
     "text": [
      "<pandas.core.strings.accessor.StringMethods object at 0x7fcbd5089ba0>\n",
      "0        0\n",
      "1        1\n",
      "2        1\n",
      "3        1\n",
      "4        1\n",
      "        ..\n",
      "27476    1\n",
      "27477    1\n",
      "27478    2\n",
      "27479    2\n",
      "27480    0\n",
      "Name: sentiment, Length: 27480, dtype: int64\n"
     ]
    }
   ],
   "source": [
    "X=train_data.iloc[:,0].str\n",
    "y=train_data.iloc[:,1]\n",
    "print(X)\n",
    "print(y)"
   ]
  },
  {
   "cell_type": "code",
   "execution_count": 11,
   "id": "dfd67043",
   "metadata": {
    "execution": {
     "iopub.execute_input": "2024-04-21T13:43:23.866515Z",
     "iopub.status.busy": "2024-04-21T13:43:23.866021Z",
     "iopub.status.idle": "2024-04-21T13:43:23.908104Z",
     "shell.execute_reply": "2024-04-21T13:43:23.907182Z"
    },
    "papermill": {
     "duration": 0.053047,
     "end_time": "2024-04-21T13:43:23.910699",
     "exception": false,
     "start_time": "2024-04-21T13:43:23.857652",
     "status": "completed"
    },
    "tags": []
   },
   "outputs": [
    {
     "data": {
      "text/html": [
       "<div>\n",
       "<style scoped>\n",
       "    .dataframe tbody tr th:only-of-type {\n",
       "        vertical-align: middle;\n",
       "    }\n",
       "\n",
       "    .dataframe tbody tr th {\n",
       "        vertical-align: top;\n",
       "    }\n",
       "\n",
       "    .dataframe thead th {\n",
       "        text-align: right;\n",
       "    }\n",
       "</style>\n",
       "<table border=\"1\" class=\"dataframe\">\n",
       "  <thead>\n",
       "    <tr style=\"text-align: right;\">\n",
       "      <th></th>\n",
       "      <th>text</th>\n",
       "      <th>sentiment</th>\n",
       "    </tr>\n",
       "  </thead>\n",
       "  <tbody>\n",
       "    <tr>\n",
       "      <th>0</th>\n",
       "      <td>Last session of the day  http://twitpic.com/67ezh</td>\n",
       "      <td>neutral</td>\n",
       "    </tr>\n",
       "    <tr>\n",
       "      <th>1</th>\n",
       "      <td>Shanghai is also really exciting (precisely -...</td>\n",
       "      <td>positive</td>\n",
       "    </tr>\n",
       "    <tr>\n",
       "      <th>2</th>\n",
       "      <td>Recession hit Veronique Branquinho, she has to...</td>\n",
       "      <td>negative</td>\n",
       "    </tr>\n",
       "    <tr>\n",
       "      <th>3</th>\n",
       "      <td>happy bday!</td>\n",
       "      <td>positive</td>\n",
       "    </tr>\n",
       "    <tr>\n",
       "      <th>4</th>\n",
       "      <td>http://twitpic.com/4w75p - I like it!!</td>\n",
       "      <td>positive</td>\n",
       "    </tr>\n",
       "  </tbody>\n",
       "</table>\n",
       "</div>"
      ],
      "text/plain": [
       "                                                text sentiment\n",
       "0  Last session of the day  http://twitpic.com/67ezh   neutral\n",
       "1   Shanghai is also really exciting (precisely -...  positive\n",
       "2  Recession hit Veronique Branquinho, she has to...  negative\n",
       "3                                        happy bday!  positive\n",
       "4             http://twitpic.com/4w75p - I like it!!  positive"
      ]
     },
     "execution_count": 11,
     "metadata": {},
     "output_type": "execute_result"
    }
   ],
   "source": [
    "lf=pd.read_csv('/kaggle/input/sentiment-analysis-dataset/test.csv',encoding='unicode_escape')\n",
    "test_data=lf[['text','sentiment']]\n",
    "test_data.head()"
   ]
  },
  {
   "cell_type": "code",
   "execution_count": 12,
   "id": "f51d1aec",
   "metadata": {
    "execution": {
     "iopub.execute_input": "2024-04-21T13:43:23.928363Z",
     "iopub.status.busy": "2024-04-21T13:43:23.927921Z",
     "iopub.status.idle": "2024-04-21T13:43:23.936050Z",
     "shell.execute_reply": "2024-04-21T13:43:23.934805Z"
    },
    "papermill": {
     "duration": 0.020882,
     "end_time": "2024-04-21T13:43:23.938548",
     "exception": false,
     "start_time": "2024-04-21T13:43:23.917666",
     "status": "completed"
    },
    "tags": []
   },
   "outputs": [],
   "source": [
    "test_data=test_data.dropna()"
   ]
  },
  {
   "cell_type": "code",
   "execution_count": 13,
   "id": "d90d288d",
   "metadata": {
    "execution": {
     "iopub.execute_input": "2024-04-21T13:43:23.954579Z",
     "iopub.status.busy": "2024-04-21T13:43:23.954091Z",
     "iopub.status.idle": "2024-04-21T13:43:23.965967Z",
     "shell.execute_reply": "2024-04-21T13:43:23.964613Z"
    },
    "papermill": {
     "duration": 0.023066,
     "end_time": "2024-04-21T13:43:23.968389",
     "exception": false,
     "start_time": "2024-04-21T13:43:23.945323",
     "status": "completed"
    },
    "tags": []
   },
   "outputs": [
    {
     "data": {
      "text/plain": [
       "text         False\n",
       "sentiment    False\n",
       "dtype: bool"
      ]
     },
     "execution_count": 13,
     "metadata": {},
     "output_type": "execute_result"
    }
   ],
   "source": [
    "train_data.isna().any()"
   ]
  },
  {
   "cell_type": "code",
   "execution_count": 14,
   "id": "f11baf9c",
   "metadata": {
    "execution": {
     "iopub.execute_input": "2024-04-21T13:43:23.984896Z",
     "iopub.status.busy": "2024-04-21T13:43:23.984403Z",
     "iopub.status.idle": "2024-04-21T13:43:24.000442Z",
     "shell.execute_reply": "2024-04-21T13:43:23.999139Z"
    },
    "papermill": {
     "duration": 0.026856,
     "end_time": "2024-04-21T13:43:24.002670",
     "exception": false,
     "start_time": "2024-04-21T13:43:23.975814",
     "status": "completed"
    },
    "tags": []
   },
   "outputs": [
    {
     "name": "stderr",
     "output_type": "stream",
     "text": [
      "/tmp/ipykernel_19/293175770.py:1: FutureWarning: Downcasting behavior in `replace` is deprecated and will be removed in a future version. To retain the old behavior, explicitly call `result.infer_objects(copy=False)`. To opt-in to the future behavior, set `pd.set_option('future.no_silent_downcasting', True)`\n",
      "  test_data.replace(dict,inplace=True)\n"
     ]
    },
    {
     "data": {
      "text/html": [
       "<div>\n",
       "<style scoped>\n",
       "    .dataframe tbody tr th:only-of-type {\n",
       "        vertical-align: middle;\n",
       "    }\n",
       "\n",
       "    .dataframe tbody tr th {\n",
       "        vertical-align: top;\n",
       "    }\n",
       "\n",
       "    .dataframe thead th {\n",
       "        text-align: right;\n",
       "    }\n",
       "</style>\n",
       "<table border=\"1\" class=\"dataframe\">\n",
       "  <thead>\n",
       "    <tr style=\"text-align: right;\">\n",
       "      <th></th>\n",
       "      <th>text</th>\n",
       "      <th>sentiment</th>\n",
       "    </tr>\n",
       "  </thead>\n",
       "  <tbody>\n",
       "    <tr>\n",
       "      <th>0</th>\n",
       "      <td>Last session of the day  http://twitpic.com/67ezh</td>\n",
       "      <td>0</td>\n",
       "    </tr>\n",
       "    <tr>\n",
       "      <th>1</th>\n",
       "      <td>Shanghai is also really exciting (precisely -...</td>\n",
       "      <td>2</td>\n",
       "    </tr>\n",
       "    <tr>\n",
       "      <th>2</th>\n",
       "      <td>Recession hit Veronique Branquinho, she has to...</td>\n",
       "      <td>1</td>\n",
       "    </tr>\n",
       "    <tr>\n",
       "      <th>3</th>\n",
       "      <td>happy bday!</td>\n",
       "      <td>2</td>\n",
       "    </tr>\n",
       "    <tr>\n",
       "      <th>4</th>\n",
       "      <td>http://twitpic.com/4w75p - I like it!!</td>\n",
       "      <td>2</td>\n",
       "    </tr>\n",
       "  </tbody>\n",
       "</table>\n",
       "</div>"
      ],
      "text/plain": [
       "                                                text  sentiment\n",
       "0  Last session of the day  http://twitpic.com/67ezh          0\n",
       "1   Shanghai is also really exciting (precisely -...          2\n",
       "2  Recession hit Veronique Branquinho, she has to...          1\n",
       "3                                        happy bday!          2\n",
       "4             http://twitpic.com/4w75p - I like it!!          2"
      ]
     },
     "execution_count": 14,
     "metadata": {},
     "output_type": "execute_result"
    }
   ],
   "source": [
    "test_data.replace(dict,inplace=True)    \n",
    "test_data.head()"
   ]
  },
  {
   "cell_type": "code",
   "execution_count": 15,
   "id": "9855c8ad",
   "metadata": {
    "execution": {
     "iopub.execute_input": "2024-04-21T13:43:24.019457Z",
     "iopub.status.busy": "2024-04-21T13:43:24.018678Z",
     "iopub.status.idle": "2024-04-21T13:43:24.026268Z",
     "shell.execute_reply": "2024-04-21T13:43:24.024948Z"
    },
    "papermill": {
     "duration": 0.019182,
     "end_time": "2024-04-21T13:43:24.029050",
     "exception": false,
     "start_time": "2024-04-21T13:43:24.009868",
     "status": "completed"
    },
    "tags": []
   },
   "outputs": [],
   "source": [
    "X_test=test_data.iloc[:,0].str\n",
    "y_test=np.array(test_data.iloc[:,1])"
   ]
  },
  {
   "cell_type": "code",
   "execution_count": 16,
   "id": "faa1603d",
   "metadata": {
    "execution": {
     "iopub.execute_input": "2024-04-21T13:43:24.045251Z",
     "iopub.status.busy": "2024-04-21T13:43:24.044793Z",
     "iopub.status.idle": "2024-04-21T13:43:26.088185Z",
     "shell.execute_reply": "2024-04-21T13:43:26.086482Z"
    },
    "papermill": {
     "duration": 2.056633,
     "end_time": "2024-04-21T13:43:26.092814",
     "exception": false,
     "start_time": "2024-04-21T13:43:24.036181",
     "status": "completed"
    },
    "tags": []
   },
   "outputs": [
    {
     "name": "stdout",
     "output_type": "stream",
     "text": [
      "Accuracy: 0.6689303904923599\n"
     ]
    }
   ],
   "source": [
    "class ComplementNB:\n",
    "    def __init__(self):\n",
    "        self.class_log_prior_ = None\n",
    "        self.feature_log_prob_ = None\n",
    "\n",
    "    def fit(self, X, y):\n",
    "        n_features = X.shape[1]\n",
    "        n_classes = len(np.unique(y))\n",
    "        self.class_log_prior_ = np.zeros(n_classes)\n",
    "        self.feature_log_prob_ = np.zeros((n_classes, n_features))\n",
    "\n",
    "        for c in range(n_classes):\n",
    "            X_c = X[y != c]\n",
    "            self.class_log_prior_[c] = np.log(X_c.shape[0] / X.shape[0])\n",
    "            self.feature_log_prob_[c] = np.log((X_c.sum(axis=0) + 1) / (np.sum(X_c.sum(axis=0) + 1)))\n",
    "\n",
    "        return self\n",
    "\n",
    "    def predict(self, X):\n",
    "        jll = np.dot(X.toarray(), self.feature_log_prob_.T) + self.class_log_prior_\n",
    "        return np.argmin(jll, axis=1)\n",
    "\n",
    "vectorizer = CountVectorizer()\n",
    "X = vectorizer.fit_transform(train_data[\"text\"])\n",
    "X_test= vectorizer.transform(test_data[\"text\"])\n",
    "\n",
    "model = ComplementNB().fit(X, y)\n",
    "\n",
    "y_pred = model.predict(X_test)\n",
    "\n",
    "print(f'Accuracy: {accuracy_score(y_test, y_pred)}')\n"
   ]
  },
  {
   "cell_type": "code",
   "execution_count": 17,
   "id": "c60633bb",
   "metadata": {
    "execution": {
     "iopub.execute_input": "2024-04-21T13:43:26.121592Z",
     "iopub.status.busy": "2024-04-21T13:43:26.120946Z",
     "iopub.status.idle": "2024-04-21T13:43:26.535865Z",
     "shell.execute_reply": "2024-04-21T13:43:26.534526Z"
    },
    "papermill": {
     "duration": 0.432346,
     "end_time": "2024-04-21T13:43:26.538857",
     "exception": false,
     "start_time": "2024-04-21T13:43:26.106511",
     "status": "completed"
    },
    "tags": []
   },
   "outputs": [
    {
     "data": {
      "image/png": "[encoded data removed]",
      "text/plain": [
       "<Figure size 640x480 with 2 Axes>"
      ]
     },
     "metadata": {},
     "output_type": "display_data"
    }
   ],
   "source": [
    "cm = confusion_matrix(y_test, y_pred)\n",
    "sns.heatmap(cm, annot=True, fmt='d', cmap='Blues')\n",
    "plt.title('Complement Naive Bayes from Scratch')\n",
    "plt.xlabel('Predicted Class')\n",
    "plt.ylabel('Actual Class')\n",
    "\n",
    "plt.show()"
   ]
  },
  {
   "cell_type": "code",
   "execution_count": 18,
   "id": "ea0b4aa3",
   "metadata": {
    "execution": {
     "iopub.execute_input": "2024-04-21T13:43:26.558636Z",
     "iopub.status.busy": "2024-04-21T13:43:26.557535Z",
     "iopub.status.idle": "2024-04-21T13:43:26.587358Z",
     "shell.execute_reply": "2024-04-21T13:43:26.585715Z"
    },
    "papermill": {
     "duration": 0.042608,
     "end_time": "2024-04-21T13:43:26.590343",
     "exception": false,
     "start_time": "2024-04-21T13:43:26.547735",
     "status": "completed"
    },
    "tags": []
   },
   "outputs": [
    {
     "name": "stdout",
     "output_type": "stream",
     "text": [
      "Accuracy: 0.6533672891907187\n"
     ]
    }
   ],
   "source": [
    "from sklearn.naive_bayes import ComplementNB\n",
    "\n",
    "cnb=ComplementNB()\n",
    "cnb.fit(X,y)\n",
    "y_pred_cnb=cnb.predict(X_test)\n",
    "print(f'Accuracy: {accuracy_score(y_test, y_pred_cnb)}')"
   ]
  },
  {
   "cell_type": "code",
   "execution_count": 19,
   "id": "86f6b85d",
   "metadata": {
    "execution": {
     "iopub.execute_input": "2024-04-21T13:43:26.608924Z",
     "iopub.status.busy": "2024-04-21T13:43:26.608486Z",
     "iopub.status.idle": "2024-04-21T13:43:26.951598Z",
     "shell.execute_reply": "2024-04-21T13:43:26.950151Z"
    },
    "papermill": {
     "duration": 0.355714,
     "end_time": "2024-04-21T13:43:26.954540",
     "exception": false,
     "start_time": "2024-04-21T13:43:26.598826",
     "status": "completed"
    },
    "tags": []
   },
   "outputs": [
    {
     "data": {
      "image/png": "[encoded data removed]",
      "text/plain": [
       "<Figure size 640x480 with 2 Axes>"
      ]
     },
     "metadata": {},
     "output_type": "display_data"
    }
   ],
   "source": [
    "cm = confusion_matrix(y_test, y_pred_cnb)\n",
    "sns.heatmap(cm, annot=True, fmt='d', cmap='Blues')\n",
    "plt.title('Complement Naive Bayes from Sklearn')\n",
    "plt.xlabel('Predicted Class')\n",
    "plt.ylabel('Actual Class')\n",
    "\n",
    "plt.show()"
   ]
  }
 ],
 "metadata": {
  "kaggle": {
   "accelerator": "none",
   "dataSources": [
    {
     "datasetId": 989445,
     "sourceId": 1808590,
     "sourceType": "datasetVersion"
    },
    {
     "sourceId": 172384969,
     "sourceType": "kernelVersion"
    }
   ],
   "dockerImageVersionId": 30702,
   "isGpuEnabled": false,
   "isInternetEnabled": false,
   "language": "python",
   "sourceType": "notebook"
  },
  "kernelspec": {
   "display_name": "Python 3",
   "language": "python",
   "name": "python3"
  },
  "language_info": {
   "codemirror_mode": {
    "name": "ipython",
    "version": 3
   },
   "file_extension": ".py",
   "mimetype": "text/x-python",
   "name": "python",
   "nbconvert_exporter": "python",
   "pygments_lexer": "ipython3",
   "version": "3.10.13"
  },
  "papermill": {
   "default_parameters": {},
   "duration": 10.716935,
   "end_time": "2024-04-21T13:43:27.788113",
   "environment_variables": {},
   "exception": null,
   "input_path": "__notebook__.ipynb",
   "output_path": "__notebook__.ipynb",
   "parameters": {},
   "start_time": "2024-04-21T13:43:17.071178",
   "version": "2.5.0"
  }
 },
 "nbformat": 4,
 "nbformat_minor": 5
}
